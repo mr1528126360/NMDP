{
 "cells": [
  {
   "cell_type": "code",
   "execution_count": 4,
   "metadata": {},
   "outputs": [
    {
     "name": "stdout",
     "output_type": "stream",
     "text": [
      "0     -2.138992\n",
      "1     -1.638333\n",
      "2     -1.502541\n",
      "3     -1.432912\n",
      "4     -0.948428\n",
      "         ...   \n",
      "870    6.296379\n",
      "871    6.358280\n",
      "872    6.470565\n",
      "873    7.207566\n",
      "874    7.275563\n",
      "Name: LN_IC50, Length: 875, dtype: float64\n"
     ]
    }
   ],
   "source": [
    "#需要排序好的药物IC50信息用于评估其分布\n",
    "import pandas as pd\n",
    "data = pd.read_csv(\"drug_IC50.csv\",sep=\",\")\n",
    "print (data[\"LN_IC50\"])"
   ]
  },
  {
   "cell_type": "code",
   "execution_count": 5,
   "metadata": {},
   "outputs": [
    {
     "name": "stdout",
     "output_type": "stream",
     "text": [
      "y=0.0046*x+-0.0098\n",
      "得分 0.8938495514206775\n"
     ]
    },
    {
     "data": {
      "image/png": "[encoded data removed]",
      "text/plain": [
       "<Figure size 432x288 with 1 Axes>"
      ]
     },
     "metadata": {
      "needs_background": "light"
     },
     "output_type": "display_data"
    }
   ],
   "source": [
    "from sklearn.linear_model import LinearRegression\n",
    "import matplotlib.pyplot as plt\n",
    "import numpy as np\n",
    "X = data[\"DATASET\"]\n",
    "Y = data[\"LN_IC50\"]\n",
    "X_train = X.values.reshape(-1,1)\n",
    "Y_train = Y.values.reshape(-1,1)\n",
    "lineModel = LinearRegression()\n",
    "lineModel.fit(X_train, Y_train)\n",
    " \n",
    "#用训练后的模型，进行预测\n",
    "Y_predict = lineModel.predict(X_train)\n",
    " \n",
    "#coef_是系数，intercept_是截距\n",
    "a1 = lineModel.coef_[0][0]\n",
    "b = lineModel.intercept_[0]\n",
    "print(\"y=%.4f*x+%.4f\" % (a1,b))\n",
    " \n",
    "#对回归模型进行评分，这里简单使用训练集进行评分，实际很多时候用其他的测试集进行评分\n",
    "print(\"得分\", lineModel.score(X_train, Y_train))\n",
    " \n",
    "#简单画图显示\n",
    "plt.scatter(X, Y, c=\"blue\")\n",
    "plt.plot(X_train,Y_predict, c=\"red\")\n",
    "plt.show()"
   ]
  },
  {
   "cell_type": "code",
   "execution_count": 6,
   "metadata": {},
   "outputs": [
    {
     "name": "stderr",
     "output_type": "stream",
     "text": [
      "/usr/local/lib/python3.6/dist-packages/ipykernel_launcher.py:8: SettingWithCopyWarning: \n",
      "A value is trying to be set on a copy of a slice from a DataFrame\n",
      "\n",
      "See the caveats in the documentation: http://pandas.pydata.org/pandas-docs/stable/user_guide/indexing.html#returning-a-view-versus-a-copy\n",
      "  \n",
      "/usr/local/lib/python3.6/dist-packages/ipykernel_launcher.py:30: SettingWithCopyWarning: \n",
      "A value is trying to be set on a copy of a slice from a DataFrame\n",
      "\n",
      "See the caveats in the documentation: http://pandas.pydata.org/pandas-docs/stable/user_guide/indexing.html#returning-a-view-versus-a-copy\n"
     ]
    },
    {
     "name": "stdout",
     "output_type": "stream",
     "text": [
      "0.9498513242223867\n",
      "0.010771802059496568\n",
      "-2.1497638020594967\n"
     ]
    },
    {
     "data": {
      "image/png": "[encoded data removed]",
      "text/plain": [
       "<Figure size 432x288 with 1 Axes>"
      ]
     },
     "metadata": {
      "needs_background": "light"
     },
     "output_type": "display_data"
    },
    {
     "name": "stdout",
     "output_type": "stream",
     "text": [
      "zb\n",
      "5.629568000000001\n",
      "9.414555\n",
      "523\n",
      "0      1.0\n",
      "1      1.0\n",
      "2      1.0\n",
      "3      1.0\n",
      "4      1.0\n",
      "      ... \n",
      "870    0.0\n",
      "871    0.0\n",
      "872    0.0\n",
      "873    0.0\n",
      "874    0.0\n",
      "Name: LN_IC50, Length: 875, dtype: float64\n"
     ]
    },
    {
     "name": "stderr",
     "output_type": "stream",
     "text": [
      "/usr/local/lib/python3.6/dist-packages/ipykernel_launcher.py:37: SettingWithCopyWarning: \n",
      "A value is trying to be set on a copy of a slice from a DataFrame\n",
      "\n",
      "See the caveats in the documentation: http://pandas.pydata.org/pandas-docs/stable/user_guide/indexing.html#returning-a-view-versus-a-copy\n"
     ]
    }
   ],
   "source": [
    "from scipy.stats import pearsonr\n",
    "import numpy as np\n",
    "y_pre = data[\"LN_IC50\"]\n",
    "output = data[\"LN_IC50\"]\n",
    "data_y = pd.read_csv(\"drug_IC50.csv\",sep=\",\")\n",
    "# Define an object containing observations that are not NA\n",
    "for i in range(0,len(Y_predict)-1):\n",
    "    y_pre[i] = Y_predict[i]\n",
    "    \n",
    "pearson = pearsonr(data_y[\"LN_IC50\"],y_pre)\n",
    "print(pearson[0])\n",
    "if(pearson[0]>0.98):\n",
    "    for i in range(0,len(Y_predict)):\n",
    "        if(i<(len(Y_predict)/2)):\n",
    "            output[i] = 1\n",
    "        else:\n",
    "            output[i] = 0\n",
    "else:\n",
    "    data = pd.read_csv(\"drug_IC50.csv\",sep=\",\")\n",
    "    lin = 0\n",
    "    zb = 0\n",
    "    y_pre = data[\"LN_IC50\"]\n",
    "    X= [data[\"DATASET\"][0],data[\"DATASET\"][len(Y_predict)-1]]\n",
    "    Y = [data[\"LN_IC50\"][0],data[\"LN_IC50\"][len(Y_predict)-1]]\n",
    "    a1 = (Y[1]-Y[0])/(X[1]-X[0])\n",
    "    b = Y[0]-a1\n",
    "    print(a1)\n",
    "    print(b)\n",
    "    for i in range(0,len(data[\"LN_IC50\"])):\n",
    "        y_pre[i] = a1*i+b\n",
    "    data2 = pd.read_csv(\"drug_IC50.csv\",sep=\",\")\n",
    "    plt.scatter(data2[\"DATASET\"],data2[\"LN_IC50\"], c=\"blue\")\n",
    "    plt.plot(data[\"DATASET\"],y_pre, c=\"red\")\n",
    "    plt.show()\n",
    "    data_2 = pd.read_csv(\"drug_IC50.csv\",sep=\",\")\n",
    "    for i in range(0,len(Y_predict)-1):\n",
    "        y_pre[i] = a1*i+b\n",
    "        cun = abs(y_pre[i]-data_2[\"LN_IC50\"][i])\n",
    "        #print(cun)\n",
    "        if(cun>lin):\n",
    "            zb = i\n",
    "            #print(zb)\n",
    "            lin = cun\n",
    "    \n",
    "    #zb = 68\n",
    "    #cun = abs(y_pre[zb]-data_2[\"LN_IC50\"][zb])\n",
    "    #lin = abs(y_pre[zb]-data_2[\"LN_IC50\"][zb])\n",
    "    print(\"zb\")\n",
    "    #print(data_2[\"LN_IC50\"][zb])\n",
    "    a = abs(data_2[\"LN_IC50\"][0]-data_2[\"LN_IC50\"][zb])\n",
    "    b = abs(data_2[\"LN_IC50\"][0]-data_2[\"LN_IC50\"][len(data_2[\"LN_IC50\"])-1])\n",
    "    print(a)\n",
    "    print(b)\n",
    "    #y = len(data_2[\"LN_IC50\"])*(data_2[\"LN_IC50\"][zb]/data_2[\"LN_IC50\"][len(data_2[\"LN_IC50\"])-1])\n",
    "    y = len(data_2[\"LN_IC50\"])*(a/b)\n",
    "    y = abs(int(y))\n",
    "    print(y)\n",
    "    for i in range(0,len(Y_predict)):\n",
    "        if(i<y):\n",
    "            output[i] = 1\n",
    "        else:\n",
    "            output[i] = 0\n",
    "print(output)\n",
    "output.to_csv(\"drug_re.csv\",header=0)\n"
   ]
  },
  {
   "cell_type": "code",
   "execution_count": 7,
   "metadata": {},
   "outputs": [
    {
     "data": {
      "text/plain": [
       "-1.41728126201373"
      ]
     },
     "execution_count": 7,
     "metadata": {},
     "output_type": "execute_result"
    }
   ],
   "source": [
    "#import seaborn as sns\n",
    "#tux = pd.read_csv(\"tu.csv\",sep=\",\")\n",
    "#sns.set(style=\"whitegrid\")\n",
    "#tips = sns.load_dataset(\"tips\")\n",
    "#ax = sns.violinplot(y=data_y[\"IC50\"], hue=output, palette=\"muted\", split=True)\n",
    "#print(tips)\n",
    "#ax = sns.violinplot(x=\"DAY\", y=\"IC50\", hue=\"RE\",data=tux, palette=\"muted\", split=True)\n",
    "len(data_2[\"LN_IC50\"])\n",
    "y_pre[68]"
   ]
  },
  {
   "cell_type": "code",
   "execution_count": 16,
   "metadata": {},
   "outputs": [
    {
     "name": "stdout",
     "output_type": "stream",
     "text": [
      "84\n"
     ]
    }
   ],
   "source": [
    "y = len(data_2[\"LN_IC50\"])*(data_2[\"LN_IC50\"][zb]/data_2[\"LN_IC50\"][len(data_2[\"LN_IC50\"])-1])\n",
    "y = int(y)\n",
    "print(y)"
   ]
  },
  {
   "cell_type": "code",
   "execution_count": 22,
   "metadata": {},
   "outputs": [
    {
     "data": {
      "text/plain": [
       "2.3781655273311877"
      ]
     },
     "execution_count": 22,
     "metadata": {},
     "output_type": "execute_result"
    }
   ],
   "source": [
    "y_pre[933]\n"
   ]
  },
  {
   "cell_type": "code",
   "execution_count": 24,
   "metadata": {},
   "outputs": [
    {
     "data": {
      "text/plain": [
       "-8.38443047266881"
      ]
     },
     "execution_count": 24,
     "metadata": {},
     "output_type": "execute_result"
    }
   ],
   "source": [
    "y_pre[0]"
   ]
  },
  {
   "cell_type": "code",
   "execution_count": null,
   "metadata": {},
   "outputs": [],
   "source": []
  },
  {
   "cell_type": "code",
   "execution_count": null,
   "metadata": {},
   "outputs": [],
   "source": []
  },
  {
   "cell_type": "code",
   "execution_count": null,
   "metadata": {},
   "outputs": [],
   "source": [
    "for i in range(0,len(data[\"IC50\"]-1)):\n",
    "    \n",
    "    y_pre[i] = a1*i+b\n",
    "    if(abs(y_pre[i]-data[\"IC50\"][i])>lin):\n",
    "        zb = i\n",
    "        lin = abs(y_pre[i]-data[\"IC50\"][i])\n",
    "print(zb)\n",
    "data2 = pd.read_csv(\"data1.csv\",sep=\",\")\n",
    "plt.scatter(data2[\"ICY\"],data2[\"IC50\"], c=\"blue\")\n",
    "plt.plot(data[\"ICY\"],y_pre, c=\"red\")\n",
    "plt.show()"
   ]
  },
  {
   "cell_type": "code",
   "execution_count": 123,
   "metadata": {},
   "outputs": [
    {
     "name": "stdout",
     "output_type": "stream",
     "text": [
      "1\n"
     ]
    }
   ],
   "source": [
    "from sklearn.linear_model import LinearRegression\n",
    "import matplotlib.pyplot as plt\n",
    "import numpy as np\n",
    "data = pd.read_csv(\"data1.csv\",sep=\",\")\n",
    "lin = 0\n",
    "zb = 0\n",
    "y_pre = data[\"IC50\"]\n",
    "X= [data[\"ICY\"][0],data[\"ICY\"][len(Y_predict)-1]]\n",
    "Y = [data[\"IC50\"][0],data[\"IC50\"][len(Y_predict)-1]]\n",
    "a1 = (Y[1]-Y[0])/(X[1]-X[0])\n",
    "b = Y[0]-a1\n",
    "print(a1)\n",
    "print(b)\n",
    "for i in range(0,len(data[\"IC50\"])):\n",
    "    \n",
    "    y_pre[i] = a1*i+b\n",
    "data2 = pd.read_csv(\"data1.csv\",sep=\",\")\n",
    "plt.scatter(data2[\"ICY\"],data2[\"IC50\"], c=\"blue\")\n",
    "plt.plot(data[\"ICY\"],y_pre, c=\"red\")\n",
    "plt.show()\n",
    "data_2 = pd.read_csv(\"data1.csv\",sep=\",\")\n",
    "for i in range(0,len(Y_predict)):\n",
    "    y_pre[i] = a1*i+b\n",
    "    cun = abs(y_pre[i]-data_2[\"IC50\"][i])\n",
    "    if(cun>lin):\n",
    "        zb = i\n",
    "        lin = cun\n",
    "print(zb)"
   ]
  },
  {
   "cell_type": "code",
   "execution_count": null,
   "metadata": {},
   "outputs": [],
   "source": [
    "X= [data[\"ICY\"][0],data[\"ICY\"][len(Y_predict)-1]]\n",
    "Y = [data[\"IC50\"][0],data[\"IC50\"][len(Y_predict)-1]]\n",
    "print(X)\n",
    "print(Y)"
   ]
  }
 ],
 "metadata": {
  "kernelspec": {
   "display_name": "Python 3",
   "language": "python",
   "name": "python3"
  },
  "language_info": {
   "codemirror_mode": {
    "name": "ipython",
    "version": 3
   },
   "file_extension": ".py",
   "mimetype": "text/x-python",
   "name": "python",
   "nbconvert_exporter": "python",
   "pygments_lexer": "ipython3",
   "version": "3.6.9"
  }
 },
 "nbformat": 4,
 "nbformat_minor": 4
}
